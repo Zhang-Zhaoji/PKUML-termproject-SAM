{
 "cells": [
  {
   "cell_type": "code",
   "execution_count": 5,
   "metadata": {},
   "outputs": [
    {
     "name": "stdout",
     "output_type": "stream",
     "text": [
      "1th data loading finished!\n",
      "2th data loading finished!\n",
      "3th data loading finished!\n",
      "4th data loading finished!\n",
      "5th data loading finished!\n",
      "6th data loading finished!\n",
      "7th data loading finished!\n",
      "8th data loading finished!\n",
      "9th data loading finished!\n",
      "10th data loading finished!\n",
      "11th data loading finished!\n",
      "12th data loading finished!\n",
      "13th data loading finished!\n",
      "14th data loading finished!\n",
      "15th data loading finished!\n",
      "16th data loading finished!\n",
      "17th data loading finished!\n",
      "18th data loading finished!\n",
      "19th data loading finished!\n",
      "20th data loading finished!\n",
      "21th data loading finished!\n",
      "22th data loading finished!\n",
      "23th data loading finished!\n",
      "24th data loading finished!\n"
     ]
    }
   ],
   "source": [
    "import nibabel as nib\n",
    "import numpy as np\n",
    "import torchvision.transforms as transforms\n",
    "import matplotlib.pyplot as pltimport \n",
    "import json\n",
    "from PIL import Image\n",
    "import os\n",
    "import cv2\n",
    "from pycocotools import mask as mask_utils\n",
    "\n",
    "with open(\"./data/dataset_0.json\") as file1:\n",
    "    dataset = json.load(file1)\n",
    "# test = dataset[\"test\"]\n",
    "# we cant use test data\n",
    "training = dataset[\"training\"]\n",
    "validation = dataset[\"validation\"]\n",
    "\n",
    "# Task 1:\n",
    "# load imgs and labels\n",
    "i = 0\n",
    "all_files = []\n",
    "for data in training:\n",
    "    i += 1\n",
    "    img_path, label_path = data[\"image\"], data[\"label\"]\n",
    "    image = nib.load(img_path)\n",
    "    label = nib.load(label_path)\n",
    "    image_img_data = image.get_fdata()\n",
    "    label_img_data = label.get_fdata()\n",
    "    num_slice = label.shape[-1]\n",
    "    print(f\"{i}th data loading finished!\")\n",
    "    k = 0\n",
    "    for j in range(num_slice):\n",
    "        ground_truth = label_img_data[:,:,j]\n",
    "        if np.sum(ground_truth) != 0:\n",
    "            k += 1\n",
    "            input_img = image_img_data[:,:,j]\n",
    "            #input_img = Gray2RGB(input_img)\n",
    "            img_filename = img_path[9:16] + f\"_{k}.nii.gz\"\n",
    "            lab_filename = label_path[9:16] + f\"_{k}.nii.gz\"\n",
    "            #input_img = nib.Nifti1Image(input_img,np.eye(4,4))\n",
    "            #ground_truth = nib.Nifti1Image(ground_truth,np.eye(4,4))\n",
    "            #nib.save(input_img, \"./seperate_Tr_img/\"+img_filename)\n",
    "            #nib.save(ground_truth, \"./seperate_Tr_lab/\"+ lab_filename)\n",
    "            img_dict = { \"image\" : \"./seperate_Tr_img/\"+img_filename, \"label\" : \"./seperate_Tr_lab/\"+lab_filename}\n",
    "            all_files.append(img_dict)\n",
    "\n",
    "json_data = json.dumps(all_files,indent=4,separators=(',', ': '))\n",
    "\n",
    "with open('training_data.json', 'w') as f:\n",
    "    f.write(json_data)\n",
    "\n",
    "\n",
    "        "
   ]
  }
 ],
 "metadata": {
  "kernelspec": {
   "display_name": "base",
   "language": "python",
   "name": "python3"
  },
  "language_info": {
   "codemirror_mode": {
    "name": "ipython",
    "version": 3
   },
   "file_extension": ".py",
   "mimetype": "text/x-python",
   "name": "python",
   "nbconvert_exporter": "python",
   "pygments_lexer": "ipython3",
   "version": "3.9.13"
  }
 },
 "nbformat": 4,
 "nbformat_minor": 2
}
