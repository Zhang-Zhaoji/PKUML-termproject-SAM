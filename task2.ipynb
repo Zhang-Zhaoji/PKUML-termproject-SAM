{
 "cells": [
  {
   "cell_type": "code",
   "execution_count": 1,
   "metadata": {},
   "outputs": [],
   "source": [
    "import monai.transforms as mt\n",
    "import logging\n",
    "import sys\n",
    "import matplotlib.pyplot as plt\n",
    "import ignite\n",
    "import numpy as np\n",
    "import torch\n",
    "import monai\n",
    "import warnings\n",
    "warnings.filterwarnings(\"ignore\")  # remove some scikit-image warnings"
   ]
  },
  {
   "cell_type": "code",
   "execution_count": 2,
   "metadata": {},
   "outputs": [],
   "source": [
    "def mDice(image,Ground_truth_mask,predictor,prompt = \"box\"):\n",
    "    Dice_lst = []\n",
    "    local_gt = Ground_truth_mask.astype(\"uint8\")\n",
    "    if np.max(local_gt) == 0:\n",
    "        return 1\n",
    "    for i in range(1,np.max(local_gt)+1):\n",
    "        i_gt_mask = np.where(local_gt == i, 1, 0)\n",
    "        if np.sum(i_gt_mask.flatten()) == 0:\n",
    "            continue\n",
    "        else:\n",
    "            predictor.set_image(image)\n",
    "            if prompt == \"point\":\n",
    "                # 随机选一个点\n",
    "                indices = np.nonzero(i_gt_mask)\n",
    "                random_index = np.random.randint(0,len(indices[0])-1)\n",
    "                point = np.array([(indices[1][random_index],indices[0][random_index])])\n",
    "                SAM_mask , scores, logits = predictor.predict(point_coords=point,point_labels=np.array([1]),multimask_output=False,)\n",
    "            elif prompt == \"points\":\n",
    "                # 随机选5个点\n",
    "                indices = np.nonzero(i_gt_mask)\n",
    "                random_index = np.random.random_integers(0,len(indices[0])-1,5)\n",
    "                points = []\n",
    "                for j in range(len(random_index)):\n",
    "                    points.append((indices[1][random_index[j]],indices[0][random_index[j]]))\n",
    "                points = np.array(points)\n",
    "                SAM_mask , scores, logits = predictor.predict(point_coords=points,point_labels=np.ones(len(points)),multimask_output=False,)\n",
    "            elif prompt == \"box\":\n",
    "                indices = np.nonzero(i_gt_mask)\n",
    "                x_min = min(indices[1])\n",
    "                x_max = max(indices[1])\n",
    "                y_min = min(indices[0])\n",
    "                y_max = max(indices[0])\n",
    "                input_box = np.array([x_min,y_min,x_max,y_max])\n",
    "                SAM_mask , scores, logits = predictor.predict(point_coords=None,point_labels=None,box=input_box,multimask_output=False,)\n",
    "            else:\n",
    "                raise NameError(\"prompt should be in [\\\"point\\\",\\\"points\\\",\\\"box\\\"]\")\n",
    "            Dice_lst.append(Dice(SAM_mask,i_gt_mask))        \n",
    "    return sum(Dice_lst) / len(Dice_lst)\n",
    "  "
   ]
  },
  {
   "cell_type": "code",
   "execution_count": 3,
   "metadata": {},
   "outputs": [],
   "source": [
    "from monai.apps import datasets\n",
    "import json\n",
    "import os\n",
    "from monai import transforms\n",
    "import torchvision\n",
    "from monai.transforms import LoadImaged,EnsureChannelFirstd,Compose,ToTensord\n",
    "import logging\n",
    "\n",
    "image_transform = Compose([\n",
    "    LoadImaged(keys=(\"image\", \"label\")),\n",
    "    torchvision.transforms.Resize(( 224 , 224 )),\n",
    "    torchvision.transforms.Grayscale(num_output_channels=3),\n",
    "    ToTensord(keys=(\"image\", \"label\"))\n",
    "])\n",
    "\n",
    "with open(\"./data/dataset_0.json\") as file1:\n",
    "    dataset = json.load(file1)\n",
    "\n",
    "#train_dataset =  monai.data.CacheDataset(dataset[\"training\"], transform=image_transform)\n",
    "train_dataset =  monai.data.Dataset(dataset[\"training\"], transform=image_transform)\n",
    "train_loader  = monai.data.DataLoader(train_dataset, batch_size=16, shuffle=True, num_workers=4, drop_last=True)"
   ]
  },
  {
   "cell_type": "code",
   "execution_count": null,
   "metadata": {},
   "outputs": [],
   "source": [
    "from segment_anything import SamPredictor, sam_model_registry \n",
    "import torch \n",
    "import os \n",
    "\n",
    "# 根据检查点加载模型\n",
    "sam_model = sam_model_registry[\"vit_h\"](checkpoint=\"./checkpoint/sam_vit_h_4b8939.pth\")\n",
    "sam_model.to(device=device)\n",
    "predictor = SamPredictor(sam_model)\n",
    "\n",
    "# 定义损失函数和优化器\n",
    "optimizer = torch.optim.Adam(sam_model.mask_decoder.parameters()) \n",
    "criterion = torch.nn.BCEWithLogitsLoss()\n",
    "\n",
    "\n",
    "\n"
   ]
  },
  {
   "cell_type": "code",
   "execution_count": null,
   "metadata": {},
   "outputs": [],
   "source": [
    "for epoch in range(2):  # loop over the dataset multiple times\n",
    "    running_loss = 0.0\n",
    "    for i, data in enumerate(train_loader,0):\n",
    "        print(\"load successfully!\")\n",
    "        inputs = data.to(device)\n",
    "        \n",
    "        optimizer.zero_grad()\n",
    "\n",
    "        outputs = predictor.sam(inputs)\n",
    "        loss = criterion(outputs, inputs)\n",
    "        loss.backward()\n",
    "        optimizer.step()\n",
    "\n",
    "        running_loss += loss.item()\n",
    "        if i % 2000 == 1999:    # print every 2000 mini-batches\n",
    "            print('[%d, %5d] loss: %.3f' %\n",
    "                  (epoch + 1, i + 1, running_loss / 2000))\n",
    "            running_loss = 0.0\n",
    "\n",
    "print('Finished Training')"
   ]
  },
  {
   "cell_type": "code",
   "execution_count": null,
   "metadata": {},
   "outputs": [],
   "source": [
    "PATH = \"finetune/fine_tuned_sam.pth\"\n",
    "torch.save(model.state_dict(), PATH)"
   ]
  }
 ],
 "metadata": {
  "kernelspec": {
   "display_name": "base",
   "language": "python",
   "name": "python3"
  },
  "language_info": {
   "codemirror_mode": {
    "name": "ipython",
    "version": 3
   },
   "file_extension": ".py",
   "mimetype": "text/x-python",
   "name": "python",
   "nbconvert_exporter": "python",
   "pygments_lexer": "ipython3",
   "version": "3.9.13"
  }
 },
 "nbformat": 4,
 "nbformat_minor": 2
}
