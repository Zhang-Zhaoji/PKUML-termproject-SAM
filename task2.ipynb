{
 "cells": [
  {
   "cell_type": "code",
   "execution_count": 1,
   "metadata": {},
   "outputs": [],
   "source": [
    "import monai.transforms as mt\n",
    "import logging\n",
    "import sys\n",
    "import matplotlib.pyplot as plt\n",
    "import ignite\n",
    "import numpy as np\n",
    "import torch\n",
    "import monai\n",
    "import torchvision.transforms as transform\n",
    "import warnings\n",
    "warnings.filterwarnings(\"ignore\")  # remove some scikit-image warnings"
   ]
  },
  {
   "cell_type": "code",
   "execution_count": 15,
   "metadata": {},
   "outputs": [],
   "source": [
    "def prompt_label(Ground_truth_mask,prompt = \"box\"):\n",
    "    label_images = []\n",
    "    prompt_images = []\n",
    "    local_gt = Ground_truth_mask\n",
    "    for i in range(1,int(np.max(local_gt))+1):\n",
    "        i_gt_mask = np.where(local_gt == i, 1, 0)\n",
    "        if np.sum(i_gt_mask.flatten()) == 0:\n",
    "            continue\n",
    "        else:\n",
    "            label_images.append(i_gt_mask)\n",
    "            if prompt == \"point\":\n",
    "                # 随机选一个点\n",
    "                point = np.zeros((1,2))\n",
    "                indices = np.nonzero(i_gt_mask)\n",
    "                random_index = np.random.randint(0,len(indices[0])-1)\n",
    "                point[0,0] ,point[0,1] = indices[2][random_index],indices[1][random_index]\n",
    "                prompt_images.append(point)\n",
    "                #SAM_mask , scores, logits = predictor.predict(point_coords=point,point_labels=np.array([1]),multimask_output=False,)\n",
    "            elif prompt == \"points\":\n",
    "                # 随机选5个点\n",
    "                indices = np.nonzero(i_gt_mask)\n",
    "                random_index = np.random.random_integers(0,len(indices[0])-1,5)\n",
    "                points = np.zeros((len(random_index),2))\n",
    "                for j in range(len(random_index)):\n",
    "                    points[j,0], points[j,1] = indices[2][random_index[j]],indices[1][random_index[j]]\n",
    "                prompt_images.append(points)\n",
    "                #SAM_mask , scores, logits = predictor.predict(point_coords=points,point_labels=np.ones(len(points)),multimask_output=False,)\n",
    "            elif prompt == \"box\":\n",
    "                indices = np.nonzero(i_gt_mask)\n",
    "                x_min = min(indices[2])\n",
    "                x_max = max(indices[2])\n",
    "                y_min = min(indices[1])\n",
    "                y_max = max(indices[1])\n",
    "                input_box = np.array([x_min,y_min,x_max,y_max])\n",
    "                prompt_images.append(input_box)\n",
    "                #SAM_mask , scores, logits = predictor.predict(point_coords=None,point_labels=None,box=input_box,multimask_output=False,)\n",
    "            else:\n",
    "                raise NameError(\"prompt should be in [\\\"point\\\",\\\"points\\\",\\\"box\\\"]\")\n",
    "            \n",
    "    return label_images, prompt_images\n",
    "\n",
    "def Gray2RGB(image):\n",
    "    # 进来的是 batchsize = 1 * 512 * 512\n",
    "    # 返回一个 B*C*H*W\n",
    "    input_img = torch.zeros((image.shape[1],image.shape[2],3))\n",
    "    input_img[:,:,0] = input_img[:,:,1]  = input_img[:,:,2]  = image[0,:,:] #(image-torch.min(image))/(torch.max(image))*255\n",
    "    input_img = np.uint8(input_img)\n",
    "    #input_img = input_img.to(device=\"cuda\")\n",
    "    return input_img\n",
    "\n",
    "def Extra_Dim(image):\n",
    "    image_4d = np.zeros((1,3,image.shape[0],image.shape[1]))\n",
    "    image_4d[0,0,:,:] = image[:,:,0]\n",
    "    image_4d[0,1,:,:] = image[:,:,1]\n",
    "    image_4d[0,2,:,:] = image[:,:,2]\n",
    "    return image_4d\n",
    "\n",
    "from segment_anything.utils.transforms import ResizeLongestSide\n",
    "\n",
    "def image_preprocess(image,sam_model,device):\n",
    "    image = Gray2RGB(image)\n",
    "    transform = ResizeLongestSide(sam_model.image_encoder.img_size)\n",
    "    input_image = transform.apply_image(image)\n",
    "    input_image_torch = torch.as_tensor(input_image, device=device)\n",
    "    transformed_image = input_image_torch.permute(2, 0, 1).contiguous()[None, :, :, :]\n",
    "    input_image = sam_model.preprocess(transformed_image)\n",
    "    original_image_size = image.shape[:2]\n",
    "    input_size = tuple(transformed_image.shape[-2:])\n",
    "    return input_image, original_image_size, input_size\n",
    "\n",
    "import torch.nn as nn\n",
    "\n",
    "\n",
    "def Dice(SAM_mask,i_gt_mask):\n",
    "    output_mat = SAM_mask[0,0,:,:] * i_gt_mask[0,0,:,:]\n",
    "    overlap = torch.sum(output_mat)\n",
    "    return 2* overlap / (torch.sum(SAM_mask)+torch.sum(i_gt_mask))\n",
    "\n",
    "def show_mask(mask, ax, random_color=False):\n",
    "    if random_color:\n",
    "        color = np.concatenate([np.random.random(3), np.array([0.6])], axis=0)\n",
    "    else:\n",
    "        color = np.array([30/255, 144/255, 255/255, 0.6])\n",
    "    h, w = mask.shape[-2:]\n",
    "    mask_image = mask.reshape(h, w, 1) * color.reshape(1, 1, -1)\n",
    "    ax.imshow(mask_image)\n",
    "\n",
    "def show_points(coords, labels, ax, marker_size=375):\n",
    "    pos_points = coords[labels==1]\n",
    "    neg_points = coords[labels==0]\n",
    "    ax.scatter(pos_points[:, 0], pos_points[:, 1], color='green', marker='*', s=marker_size, edgecolor='white', linewidth=1.25)\n",
    "    ax.scatter(neg_points[:, 0], neg_points[:, 1], color='red', marker='*', s=marker_size, edgecolor='white', linewidth=1.25)   \n",
    "    \n",
    "def show_box(box, ax):\n",
    "    x0, y0 = box[0], box[1]\n",
    "    w, h = box[2] - box[0], box[3] - box[1]\n",
    "    ax.add_patch(plt.Rectangle((x0, y0), w, h, edgecolor='green', facecolor=(0,0,0,0), lw=2))  "
   ]
  },
  {
   "cell_type": "code",
   "execution_count": 3,
   "metadata": {},
   "outputs": [],
   "source": [
    "from monai.apps import datasets\n",
    "import json\n",
    "import os\n",
    "from monai import transforms\n",
    "import torchvision\n",
    "from monai.transforms import LoadImaged,EnsureChannelFirstd,Compose,ToTensord\n",
    "import logging\n",
    "\n",
    "image_transform = Compose([\n",
    "    LoadImaged(keys=(\"image\", \"label\")),\n",
    "#    torchvision.transforms.Grayscale(num_output_channels=3),\n",
    "    ToTensord(keys=(\"image\", \"label\"))\n",
    "])\n",
    "\n",
    "with open(\"./training_data.json\") as file1:\n",
    "    dataset = json.load(file1)\n",
    "\n",
    "#train_dataset =  monai.data.CacheDataset(dataset[\"training\"], transform=image_transform)\n",
    "train_dataset =  monai.data.Dataset(dataset, transform=image_transform)\n",
    "train_loader  = monai.data.DataLoader(train_dataset, batch_size=1, shuffle=True, num_workers=1, drop_last=True)"
   ]
  },
  {
   "cell_type": "code",
   "execution_count": 18,
   "metadata": {},
   "outputs": [],
   "source": [
    "from segment_anything import SamPredictor, sam_model_registry \n",
    "import torch \n",
    "import os \n",
    "device = \"cuda\" if torch.cuda.is_available() else \"cpu\"\n",
    "# 根据检查点加载模型\n",
    "\n",
    "sam_model = sam_model_registry[\"vit_b\"](checkpoint=\"./checkpoint/sam_vit_b_01ec64.pth\")\n",
    "sam_model.train()\n",
    "predictor = SamPredictor(sam_model)\n",
    "for name, param in sam_model.named_parameters():\n",
    "  if name.startswith(\"vision_encoder\") or name.startswith(\"prompt_encoder\"):\n",
    "    param.requires_grad_(False)\n",
    "sam_model.to(device=device)\n",
    "# 定义损失函数和优化器\n",
    "# hyperparameters\n",
    "max_epochs = 1\n",
    "lr = 5e-6\n",
    "wd = 0\n",
    "optimizer = torch.optim.Adam(sam_model.mask_decoder.parameters(), lr=lr, weight_decay=wd)\n",
    "seg_loss = monai.losses.DiceCELoss(sigmoid=True, squared_pred=True, reduction='mean')"
   ]
  },
  {
   "cell_type": "code",
   "execution_count": 22,
   "metadata": {},
   "outputs": [
    {
     "name": "stderr",
     "output_type": "stream",
     "text": [
      "  1%|          | 10/1770 [01:22<3:35:13,  7.34s/it]"
     ]
    },
    {
     "name": "stdout",
     "output_type": "stream",
     "text": [
      "EPOCH: 0,processf10\n",
      "Mean loss: 0.25659630112349985\n"
     ]
    },
    {
     "name": "stderr",
     "output_type": "stream",
     "text": [
      "  1%|          | 20/1770 [02:34<3:23:48,  6.99s/it]"
     ]
    },
    {
     "name": "stdout",
     "output_type": "stream",
     "text": [
      "EPOCH: 0,processf20\n",
      "Mean loss: 0.20913966819643975\n"
     ]
    },
    {
     "name": "stderr",
     "output_type": "stream",
     "text": [
      "  2%|▏         | 30/1770 [03:41<2:58:53,  6.17s/it]"
     ]
    },
    {
     "name": "stdout",
     "output_type": "stream",
     "text": [
      "EPOCH: 0,processf30\n",
      "Mean loss: 0.2256810624152422\n"
     ]
    },
    {
     "name": "stderr",
     "output_type": "stream",
     "text": [
      "  2%|▏         | 40/1770 [04:50<3:21:15,  6.98s/it]"
     ]
    },
    {
     "name": "stdout",
     "output_type": "stream",
     "text": [
      "EPOCH: 0,processf40\n",
      "Mean loss: 0.19625952476635575\n"
     ]
    },
    {
     "name": "stderr",
     "output_type": "stream",
     "text": [
      "  3%|▎         | 50/1770 [06:02<3:36:58,  7.57s/it]"
     ]
    },
    {
     "name": "stdout",
     "output_type": "stream",
     "text": [
      "EPOCH: 0,processf50\n",
      "Mean loss: 0.18174210786819459\n"
     ]
    },
    {
     "name": "stderr",
     "output_type": "stream",
     "text": [
      "  3%|▎         | 57/1770 [06:51<3:16:37,  6.89s/it]"
     ]
    }
   ],
   "source": [
    "from tqdm import tqdm\n",
    "from statistics import mean\n",
    "import torch\n",
    "import torch.nn.functional as F\n",
    "from torchvision.transforms import Resize\n",
    "from segment_anything import SamPredictor, sam_model_registry, utils\n",
    "losses = []\n",
    "for epoch in range(max_epochs):\n",
    "    epoch_losses = []\n",
    "    batch_number = 0\n",
    "    for batch in tqdm(train_loader):\n",
    "        optimizer.zero_grad()\n",
    "        batch_number += 1\n",
    "    # forward pass\n",
    "    # batch image : [batch_size * 512 * 512], label : [batch_size * 512 * 512]\n",
    "        loss = 0\n",
    "        input_image, input_label = batch[\"image\"],batch[\"label\"]\n",
    "        input_image, original_image_size, input_size = image_preprocess(input_image,sam_model,device)\n",
    "        label_images, prompt_images = prompt_label(input_label)\n",
    "        with torch.no_grad():\n",
    "            image_embedding = sam_model.image_encoder(input_image)\n",
    "        for k in range(len(label_images)):\n",
    "            box = ResizeLongestSide(sam_model.image_encoder.img_size).apply_boxes(prompt_images[k], original_image_size)\n",
    "            box_torch = torch.as_tensor(box, dtype=torch.float, device=device)\n",
    "            box_torch = box_torch[None, :]\n",
    "            with torch.no_grad():\n",
    "                sparse_embeddings, dense_embeddings = sam_model.prompt_encoder(points=None, boxes=box_torch, masks=None)\n",
    "        # compute loss\n",
    "            low_res_masks, iou_predictions = sam_model.mask_decoder(\n",
    "            image_embeddings=image_embedding,\n",
    "            image_pe=sam_model.prompt_encoder.get_dense_pe(),\n",
    "            sparse_prompt_embeddings=sparse_embeddings,\n",
    "            dense_prompt_embeddings=dense_embeddings,\n",
    "            multimask_output=False,\n",
    "            )\n",
    "            upscaled_masks = sam_model.postprocess_masks(low_res_masks, input_size, original_image_size).to(device)\n",
    "            binary_mask = F.normalize(F.threshold(upscaled_masks, 0.0, 0))\n",
    "\n",
    "            gt_mask_resized = torch.from_numpy(np.resize(label_images[k], (1, 1, label_images[k].shape[1], label_images[k].shape[2]))).to(device)\n",
    "            gt_binary_mask = torch.as_tensor(gt_mask_resized > 0, dtype=torch.float32)\n",
    "    \n",
    "            loss += 1-Dice(binary_mask, gt_binary_mask)\n",
    "            loss /= len(label_images)\n",
    "        \n",
    "        loss.backward()\n",
    "        optimizer.step()\n",
    "        epoch_losses.append(loss.item())\n",
    "        losses.append(epoch_losses)\n",
    "        torch.cuda.empty_cache()\n",
    "        if batch_number % 10 == 0:\n",
    "            print(f'EPOCH: {epoch},processf{batch_number}')\n",
    "            print(f'Mean loss: {mean(epoch_losses)}')\n",
    "    PATH = f\"finetune/fine_tuned_sam_{1+epoch}.pth\"\n",
    "    torch.save(sam_model.state_dict(), PATH)"
   ]
  },
  {
   "cell_type": "code",
   "execution_count": 6,
   "metadata": {},
   "outputs": [],
   "source": [
    "PATH = \"finetune/fine_tuned_sam.pth\"\n",
    "torch.save(sam_model.state_dict(), PATH)"
   ]
  }
 ],
 "metadata": {
  "kernelspec": {
   "display_name": "base",
   "language": "python",
   "name": "python3"
  },
  "language_info": {
   "codemirror_mode": {
    "name": "ipython",
    "version": 3
   },
   "file_extension": ".py",
   "mimetype": "text/x-python",
   "name": "python",
   "nbconvert_exporter": "python",
   "pygments_lexer": "ipython3",
   "version": "3.9.13"
  }
 },
 "nbformat": 4,
 "nbformat_minor": 2
}
